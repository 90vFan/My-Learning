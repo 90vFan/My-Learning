{
 "cells": [
  {
   "cell_type": "markdown",
   "metadata": {},
   "source": [
    "超时强制退出程序\n",
    "\n",
    "Wrap a function and cancel it it after given timeout.\n",
    "1. signal\n",
    "2. multiprocess"
   ]
  },
  {
   "cell_type": "markdown",
   "metadata": {},
   "source": [
    "## [signal](https://docs.python.org/3/library/signal.html)\n",
    "\n",
    "refer to: http://www.cnblogs.com/vamei/archive/2012/10/06/2712683.html\n",
    "\n",
    "信号是由内核(kernel)管理的。信号的产生方式多种多样，它可以是内核自身产生的，比如出现硬件错误(比如出现分母为0的除法运算，或者出现segmentation fault)，内核需要通知某一进程；也可以是其它进程产生的，发送给内核，再由内核传递给目标进程。内核中针对每一个进程都有一个表存储相关信息(房间的信箱)。当内核需要将信号传递给某个进程时，就在该进程相对应的表中的适当位置写入信号(塞入纸条)，这样，就生成(generate)了信号。当该进程执行系统调用时，在系统调用完成后退出内核时，都会顺便查看信箱里的信息。如果有信号，进程会执行对应该信号的操作(signal action, 也叫做信号处理signal disposition)，此时叫做执行(deliver)信号。从信号的生成到信号的传递的时间，信号处于等待(pending)状态(纸条还没有被查看)。我们同样可以设计程序，让其生成的进程阻塞(block)某些信号，也就是让这些信号始终处于等待的状态，直到进程取消阻塞(unblock)或者无视信号。\n",
    "\n",
    "- *SIGINT*   当键盘按下CTRL+C从shell中发出信号，信号被传递给shell中前台运行的进程，对应该信号的默认操作是中断 (INTERRUPT) 该进程。\n",
    "- *SIGQUIT*  当键盘按下CTRL+\\从shell中发出信号，信号被传递给shell中前台运行的进程，对应该信号的默认操作是退出 (QUIT) 该进程。\n",
    "- *SIGTSTP*  当键盘按下CTRL+Z从shell中发出信号，信号被传递给shell中前台运行的进程，对应该信号的默认操作是暂停 (STOP) 该进程。\n",
    "- *SIGCONT*  用于通知暂停的进程继续。\n",
    "- *SIGALRM*  起到定时器的作用，通常是程序在一定的时间之后才生成该信号。\n",
    "\n",
    "\n",
    "\n",
    "\n",
    "编号\n",
    "名称\n",
    "作用\n",
    "\n",
    "1\n",
    "SIGHUP\n",
    "终端挂起或者终止进程。默认动作为终止进程\n",
    "\n",
    "2\n",
    "SIGINT\n",
    "键盘中断 <ctrl+c> 经常会用到。默认动作为终止进程\n",
    "\n",
    "3\n",
    "SIGQUIT\n",
    "键盘退出键被按下。一般用来响应 <ctrl+d>。 默认动作终止进程\n",
    "\n",
    "9\n",
    "SIGKILL\n",
    "强制退出。 shell中经常使用\n",
    "\n",
    "14\n",
    "SIGALRM\n",
    "定时器超时，默认为终止进程\n",
    "\n",
    "15\n",
    "SIGTERM\n",
    "程序结束信号，程序一般会清理完状态在退出，我们一般说的优雅的退出\n",
    "\n",
    "? \n",
    "SIGSTP\n",
    "<ctrl+z>,默认操作是暂停 (STOP) 该进程"
   ]
  },
  {
   "cell_type": "markdown",
   "metadata": {},
   "source": [
    "### SIGALRM\n",
    "signal.alarm()，用于在一定时间之后，向进程自身发送SIGALRM信号"
   ]
  },
  {
   "cell_type": "code",
   "execution_count": 2,
   "metadata": {},
   "outputs": [],
   "source": [
    "import signal\n",
    "\n",
    "def loop_forever():\n",
    "    import time\n",
    "    while 1:\n",
    "        print('Tick')\n",
    "        time.sleep(1)\n",
    "        \n",
    "def handler(signum, frame):\n",
    "    print(\"Forever is over!\")\n",
    "    raise Exception(\"end of time\")"
   ]
  },
  {
   "cell_type": "code",
   "execution_count": 3,
   "metadata": {},
   "outputs": [
    {
     "data": {
      "text/plain": [
       "0"
      ]
     },
     "execution_count": 3,
     "metadata": {},
     "output_type": "execute_result"
    }
   ],
   "source": [
    "# 十秒钟后，调用 handler\n",
    "\n",
    "# register signal.SIGALRM's handler \n",
    "signal.signal(signal.SIGALRM, handler)\n",
    "\n",
    "signal.alarm(10)"
   ]
  },
  {
   "cell_type": "code",
   "execution_count": 4,
   "metadata": {},
   "outputs": [
    {
     "name": "stdout",
     "output_type": "stream",
     "text": [
      "Tick\n",
      "Tick\n",
      "Tick\n",
      "Tick\n",
      "Tick\n",
      "Tick\n",
      "Tick\n",
      "Tick\n",
      "Tick\n",
      "Tick\n",
      "Forever is over!\n",
      "end of time\n"
     ]
    }
   ],
   "source": [
    "try:\n",
    "    loop_forever()\n",
    "except Exception as e:\n",
    "    print(e)"
   ]
  },
  {
   "cell_type": "code",
   "execution_count": 5,
   "metadata": {},
   "outputs": [
    {
     "data": {
      "text/plain": [
       "0"
      ]
     },
     "execution_count": 5,
     "metadata": {},
     "output_type": "execute_result"
    }
   ],
   "source": [
    "# Cancel the timer if the function returned before timeout\n",
    "signal.alarm(0)"
   ]
  },
  {
   "cell_type": "markdown",
   "metadata": {},
   "source": [
    "## thread\n",
    "\n",
    "refrer to: https://stackoverflow.com/questions/492519/timeout-on-a-function-call\n",
    "\n",
    "1. threading.Timer\n",
    "\n",
    "Call a function after a specified number of seconds:\n",
    "\n",
    "Usage: \n",
    "\n",
    "```\n",
    "threading.Timer(interval, function, args=None, kwargs=None)\n",
    "\n",
    "t = Timer(30.0, f, args=None, kwargs=None)\n",
    "t.start()\n",
    "t.cancel()     # stop the timer's action if it's still waiting\n",
    "```\n",
    "2. use thread.interrupt_main() to raise KeyboardInterupt and quit function"
   ]
  },
  {
   "cell_type": "markdown",
   "metadata": {},
   "source": [
    "### `exit_after` decorator"
   ]
  },
  {
   "cell_type": "code",
   "execution_count": 15,
   "metadata": {},
   "outputs": [],
   "source": [
    "import threading\n",
    "from threading import Thread\n",
    "import sys\n",
    "import _thread as thread\n",
    "from time import sleep\n",
    "\n",
    "def quit_function(fn_name):\n",
    "    print('function {} exceed time limit'.format(fn_name), file=sys.stderr)\n",
    "    sys.stderr.flush()\n",
    "    thread.interrupt_main() # raise KeyboardInterupt\n",
    "\n",
    "def exit_after(timeout):\n",
    "    '''\n",
    "    use as decorator to exit process if function takes longer than timeout(seconds)\n",
    "    '''\n",
    "    def outer(fn):\n",
    "        def inner(*args, **kwargs):\n",
    "            timer = threading.Timer(timeout, quit_function, args=[fn.__name__])\n",
    "            timer.start()\n",
    "            try:\n",
    "                result = fn(*args, **kwargs)\n",
    "            finally:\n",
    "                timer.cancel()\n",
    "            return result\n",
    "        return inner\n",
    "    return outer\n",
    "    \n",
    "# countdown(8)"
   ]
  },
  {
   "cell_type": "code",
   "execution_count": 16,
   "metadata": {},
   "outputs": [],
   "source": [
    "# Usage\n",
    "@exit_after(5)\n",
    "def countdown(n):\n",
    "    print('start ...', flush=True)\n",
    "    for i in range(n, -1, -1):\n",
    "        print(i, end=', ', flush=True)\n",
    "        sleep(1)\n",
    "        \n",
    "    print('\\nfinished ...')"
   ]
  },
  {
   "cell_type": "code",
   "execution_count": 17,
   "metadata": {},
   "outputs": [
    {
     "name": "stdout",
     "output_type": "stream",
     "text": [
      "start ...\n",
      "3, 2, 1, 0, \n",
      "finished ...\n",
      "start ...\n",
      "10, 9, 8, 7, 6, "
     ]
    },
    {
     "name": "stderr",
     "output_type": "stream",
     "text": [
      "function countdown exceed time limit\n"
     ]
    },
    {
     "ename": "KeyboardInterrupt",
     "evalue": "",
     "output_type": "error",
     "traceback": [
      "\u001b[0;31m---------------------------------------------------------------------------\u001b[0m",
      "\u001b[0;31mKeyboardInterrupt\u001b[0m                         Traceback (most recent call last)",
      "\u001b[0;32m<ipython-input-17-5ca5c9646df0>\u001b[0m in \u001b[0;36m<module>\u001b[0;34m\u001b[0m\n\u001b[1;32m      1\u001b[0m \u001b[0mcountdown\u001b[0m\u001b[0;34m(\u001b[0m\u001b[0;36m3\u001b[0m\u001b[0;34m)\u001b[0m\u001b[0;34m\u001b[0m\u001b[0;34m\u001b[0m\u001b[0m\n\u001b[0;32m----> 2\u001b[0;31m \u001b[0mcountdown\u001b[0m\u001b[0;34m(\u001b[0m\u001b[0;36m10\u001b[0m\u001b[0;34m)\u001b[0m\u001b[0;34m\u001b[0m\u001b[0;34m\u001b[0m\u001b[0m\n\u001b[0m",
      "\u001b[0;32m<ipython-input-15-a03d67e2aa9c>\u001b[0m in \u001b[0;36minner\u001b[0;34m(*args, **kwargs)\u001b[0m\n\u001b[1;32m     19\u001b[0m             \u001b[0mtimer\u001b[0m\u001b[0;34m.\u001b[0m\u001b[0mstart\u001b[0m\u001b[0;34m(\u001b[0m\u001b[0;34m)\u001b[0m\u001b[0;34m\u001b[0m\u001b[0;34m\u001b[0m\u001b[0m\n\u001b[1;32m     20\u001b[0m             \u001b[0;32mtry\u001b[0m\u001b[0;34m:\u001b[0m\u001b[0;34m\u001b[0m\u001b[0;34m\u001b[0m\u001b[0m\n\u001b[0;32m---> 21\u001b[0;31m                 \u001b[0mresult\u001b[0m \u001b[0;34m=\u001b[0m \u001b[0mfn\u001b[0m\u001b[0;34m(\u001b[0m\u001b[0;34m*\u001b[0m\u001b[0margs\u001b[0m\u001b[0;34m,\u001b[0m \u001b[0;34m**\u001b[0m\u001b[0mkwargs\u001b[0m\u001b[0;34m)\u001b[0m\u001b[0;34m\u001b[0m\u001b[0;34m\u001b[0m\u001b[0m\n\u001b[0m\u001b[1;32m     22\u001b[0m             \u001b[0;32mfinally\u001b[0m\u001b[0;34m:\u001b[0m\u001b[0;34m\u001b[0m\u001b[0;34m\u001b[0m\u001b[0m\n\u001b[1;32m     23\u001b[0m                 \u001b[0mtimer\u001b[0m\u001b[0;34m.\u001b[0m\u001b[0mcancel\u001b[0m\u001b[0;34m(\u001b[0m\u001b[0;34m)\u001b[0m\u001b[0;34m\u001b[0m\u001b[0;34m\u001b[0m\u001b[0m\n",
      "\u001b[0;32m<ipython-input-16-f7432e82302c>\u001b[0m in \u001b[0;36mcountdown\u001b[0;34m(n)\u001b[0m\n\u001b[1;32m      5\u001b[0m     \u001b[0;32mfor\u001b[0m \u001b[0mi\u001b[0m \u001b[0;32min\u001b[0m \u001b[0mrange\u001b[0m\u001b[0;34m(\u001b[0m\u001b[0mn\u001b[0m\u001b[0;34m,\u001b[0m \u001b[0;34m-\u001b[0m\u001b[0;36m1\u001b[0m\u001b[0;34m,\u001b[0m \u001b[0;34m-\u001b[0m\u001b[0;36m1\u001b[0m\u001b[0;34m)\u001b[0m\u001b[0;34m:\u001b[0m\u001b[0;34m\u001b[0m\u001b[0;34m\u001b[0m\u001b[0m\n\u001b[1;32m      6\u001b[0m         \u001b[0mprint\u001b[0m\u001b[0;34m(\u001b[0m\u001b[0mi\u001b[0m\u001b[0;34m,\u001b[0m \u001b[0mend\u001b[0m\u001b[0;34m=\u001b[0m\u001b[0;34m', '\u001b[0m\u001b[0;34m,\u001b[0m \u001b[0mflush\u001b[0m\u001b[0;34m=\u001b[0m\u001b[0;32mTrue\u001b[0m\u001b[0;34m)\u001b[0m\u001b[0;34m\u001b[0m\u001b[0;34m\u001b[0m\u001b[0m\n\u001b[0;32m----> 7\u001b[0;31m         \u001b[0msleep\u001b[0m\u001b[0;34m(\u001b[0m\u001b[0;36m1\u001b[0m\u001b[0;34m)\u001b[0m\u001b[0;34m\u001b[0m\u001b[0;34m\u001b[0m\u001b[0m\n\u001b[0m\u001b[1;32m      8\u001b[0m \u001b[0;34m\u001b[0m\u001b[0m\n\u001b[1;32m      9\u001b[0m     \u001b[0mprint\u001b[0m\u001b[0;34m(\u001b[0m\u001b[0;34m'\\nfinished ...'\u001b[0m\u001b[0;34m)\u001b[0m\u001b[0;34m\u001b[0m\u001b[0;34m\u001b[0m\u001b[0m\n",
      "\u001b[0;31mKeyboardInterrupt\u001b[0m: "
     ]
    }
   ],
   "source": [
    "countdown(3)\n",
    "countdown(10)"
   ]
  },
  {
   "cell_type": "markdown",
   "metadata": {},
   "source": [
    "## multiprocessing\n",
    "\n",
    "Use `multiprocessing.Process`\n",
    "\n",
    "Process objects represent activity that is run in a separate process.\n",
    "The class is analogous to `threading.Thread`.\n",
    "\n",
    "\n",
    "`p.join(timeout=None)`: Wait until child process terminates\n"
   ]
  },
  {
   "cell_type": "code",
   "execution_count": 18,
   "metadata": {},
   "outputs": [],
   "source": [
    "import multiprocessing\n",
    "\n",
    "\n",
    "def bar():\n",
    "    for i in range(100):\n",
    "        print('Tick')\n",
    "        sleep(1)\n",
    "\n",
    "def exit_after(timeout=10):\n",
    "    # start bar as a process\n",
    "    p = multiprocessing.Process(target=bar)\n",
    "    p.start()\n",
    "    \n",
    "    # wait for timeout seconds or until process finishes\n",
    "    p.join(timeout)\n",
    "    \n",
    "    # if thred is still active\n",
    "    if p.is_alive():\n",
    "        print('process is still running... kill it ...')\n",
    "        # terminate\n",
    "        p.terminate()\n",
    "        p.join()\n",
    "    "
   ]
  },
  {
   "cell_type": "code",
   "execution_count": 19,
   "metadata": {},
   "outputs": [
    {
     "name": "stdout",
     "output_type": "stream",
     "text": [
      "Tick\n",
      "Tick\n",
      "Tick\n",
      "Tick\n",
      "Tick\n",
      "Tick\n",
      "Tick\n",
      "Tick\n",
      "Tick\n",
      "Tick\n",
      "process is still running... kill it ...\n"
     ]
    }
   ],
   "source": [
    "exit_after()"
   ]
  }
 ],
 "metadata": {
  "_draft": {
   "nbviewer_url": "https://gist.github.com/0fbeff1e3603c5dac56a4cce2b6b4af8"
  },
  "gist": {
   "data": {
    "description": "exit_after_timeout.ipynb",
    "public": true
   },
   "id": "0fbeff1e3603c5dac56a4cce2b6b4af8"
  },
  "kernelspec": {
   "display_name": "Python 3",
   "language": "python",
   "name": "python3"
  },
  "language_info": {
   "codemirror_mode": {
    "name": "ipython",
    "version": 3
   },
   "file_extension": ".py",
   "mimetype": "text/x-python",
   "name": "python",
   "nbconvert_exporter": "python",
   "pygments_lexer": "ipython3",
   "version": "3.6.6"
  },
  "latex_envs": {
   "LaTeX_envs_menu_present": true,
   "autoclose": false,
   "autocomplete": true,
   "bibliofile": "biblio.bib",
   "cite_by": "apalike",
   "current_citInitial": 1,
   "eqLabelWithNumbers": true,
   "eqNumInitial": 1,
   "hotkeys": {
    "equation": "Ctrl-E",
    "itemize": "Ctrl-I"
   },
   "labels_anchors": false,
   "latex_user_defs": false,
   "report_style_numbering": false,
   "user_envs_cfg": false
  },
  "toc": {
   "base_numbering": 1,
   "nav_menu": {},
   "number_sections": true,
   "sideBar": true,
   "skip_h1_title": false,
   "title_cell": "Table of Contents",
   "title_sidebar": "Contents",
   "toc_cell": false,
   "toc_position": {},
   "toc_section_display": true,
   "toc_window_display": true
  }
 },
 "nbformat": 4,
 "nbformat_minor": 2
}
