{
 "cells": [
  {
   "cell_type": "code",
   "execution_count": 4,
   "metadata": {},
   "outputs": [
    {
     "name": "stdout",
     "output_type": "stream",
     "text": [
      "[[0.625  0.3125 0.0625]]\n",
      "[[0.625  0.3125 0.0625]]\n"
     ]
    }
   ],
   "source": [
    "# markov chain stable state, 稳定分布，收敛性\n",
    "import numpy as np\n",
    "\n",
    "\n",
    "def markov_stable(pi_0):\n",
    "    transmit = [[0.9,    0.075,  0.025],\n",
    "                       [0.15,  0.8,      0.05],\n",
    "                       [0.25,  0.25,    0.5]]\n",
    "\n",
    "    pi_m = np.matrix(pi_0, dtype=float)\n",
    "    transmit_m = np.matrix(transmit, dtype=float)\n",
    "    for i in range(100):\n",
    "        pi_m = pi_m*transmit_m\n",
    "        # print(\"Current round:\" , i+1)\n",
    "        #print(pi_1_m)\n",
    "        \n",
    "    return pi_m \n",
    "        \n",
    "pi_0 = [[0.3, 0.4, 0.3]]\n",
    "stable = markov_stable(pi_0)\n",
    "print(stable)\n",
    "\n",
    "pi_0 = [[0.7, 0.1, 0.2]]\n",
    "stable = markov_stable(pi_0)\n",
    "print(stable)"
   ]
  },
  {
   "cell_type": "code",
   "execution_count": 6,
   "metadata": {
    "collapsed": true
   },
   "outputs": [
    {
     "name": "stdout",
     "output_type": "stream",
     "text": [
      "Current round: 1\n",
      "[[0.8275  0.13375 0.03875]\n",
      " [0.2675  0.66375 0.06875]\n",
      " [0.3875  0.34375 0.26875]]\n",
      "Current round: 2\n",
      "[[0.73555  0.212775 0.051675]\n",
      " [0.42555  0.499975 0.074475]\n",
      " [0.51675  0.372375 0.110875]]\n",
      "Current round: 3\n",
      "[[0.65828326 0.28213131 0.05958543]\n",
      " [0.56426262 0.36825403 0.06748335]\n",
      " [0.5958543  0.33741675 0.06672895]]\n",
      "Current round: 4\n",
      "[[0.62803724 0.30972343 0.06223933]\n",
      " [0.61944687 0.3175772  0.06297594]\n",
      " [0.6223933  0.3148797  0.062727  ]]\n",
      "Current round: 5\n",
      "[[0.62502532 0.31247685 0.06249783]\n",
      " [0.6249537  0.31254233 0.06250397]\n",
      " [0.62497828 0.31251986 0.06250186]]\n",
      "Current round: 6\n",
      "[[0.625  0.3125 0.0625]\n",
      " [0.625  0.3125 0.0625]\n",
      " [0.625  0.3125 0.0625]]\n",
      "Current round: 7\n",
      "[[0.625  0.3125 0.0625]\n",
      " [0.625  0.3125 0.0625]\n",
      " [0.625  0.3125 0.0625]]\n",
      "Current round: 8\n",
      "[[0.625  0.3125 0.0625]\n",
      " [0.625  0.3125 0.0625]\n",
      " [0.625  0.3125 0.0625]]\n",
      "Current round: 9\n",
      "[[0.625  0.3125 0.0625]\n",
      " [0.625  0.3125 0.0625]\n",
      " [0.625  0.3125 0.0625]]\n",
      "Current round: 10\n",
      "[[0.625  0.3125 0.0625]\n",
      " [0.625  0.3125 0.0625]\n",
      " [0.625  0.3125 0.0625]]\n"
     ]
    }
   ],
   "source": [
    "# pi*P = pi\n",
    "transmit = [[0.9,    0.075,  0.025],\n",
    "                       [0.15,  0.8,      0.05],\n",
    "                       [0.25,  0.25,    0.5]]\n",
    "\n",
    "matrix = np.matrix(transmit, dtype=float)\n",
    "for i in range(10):\n",
    "    matrix = matrix*matrix\n",
    "    print(\"Current round:\" , i+1)\n",
    "    print(matrix)"
   ]
  },
  {
   "cell_type": "code",
   "execution_count": null,
   "metadata": {},
   "outputs": [],
   "source": []
  }
 ],
 "metadata": {
  "kernelspec": {
   "display_name": "Python 3",
   "language": "python",
   "name": "python3"
  },
  "language_info": {
   "codemirror_mode": {
    "name": "ipython",
    "version": 3
   },
   "file_extension": ".py",
   "mimetype": "text/x-python",
   "name": "python",
   "nbconvert_exporter": "python",
   "pygments_lexer": "ipython3",
   "version": "3.6.8"
  }
 },
 "nbformat": 4,
 "nbformat_minor": 2
}
